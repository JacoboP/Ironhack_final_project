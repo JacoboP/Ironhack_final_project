{
 "cells": [
  {
   "cell_type": "code",
   "execution_count": 1,
   "metadata": {},
   "outputs": [],
   "source": [
    "import requests\n",
    "import lxml.html as lh\n",
    "import pandas as pd\n",
    "from bs4 import BeautifulSoup\n",
    "import numpy as np\n"
   ]
  },
  {
   "cell_type": "markdown",
   "metadata": {},
   "source": [
    "### Obtención de los jugadores seleccionables para el draft 2019"
   ]
  },
  {
   "cell_type": "code",
   "execution_count": 2,
   "metadata": {},
   "outputs": [],
   "source": [
    "# Hay una noticia del 29/05/2019 donde se enumeran los jugadores universitarios que serán elegibles para el draft 2019. Hacemos scraping sobre esta lista para obtener los nombres de los jugadores\n",
    "\n",
    "website_url = requests.get('https://collegebasketball.nbcsports.com/2019/05/29/2019-nba-draft-early-entry-list-who-declared-who-is-returning-who-are-we-waiting-on/')\n",
    "soup = BeautifulSoup(website_url.content,'lxml')\n",
    "soup.prettify()\n",
    "name_list = soup.find('div',{'class':\"entry-content\"})\n",
    "name_list\n",
    "listdata = name_list.findAll('li')\n",
    "data =[]\n",
    "count = 0\n",
    "for cell in listdata:\n",
    "    count = count+1\n",
    "    if (count >5):\n",
    "        data.append(cell.get_text())"
   ]
  },
  {
   "cell_type": "code",
   "execution_count": 3,
   "metadata": {},
   "outputs": [
    {
     "data": {
      "text/plain": [
       "79"
      ]
     },
     "metadata": {},
     "output_type": "display_data"
    }
   ],
   "source": [
    "# Como el scraping me coge primero los que han rechazado ir al draft a pesar de confirmar inicialmente y los que irán o están en duda, buscamos el índice del primer jugador que va\n",
    "\n",
    "first_confirmed_indx_player = data.index('NICKEIL ALEXANDER-WALKER, Virginia Tech')\n",
    "display(first_confirmed_indx_player)\n",
    "data = data[int(first_confirmed_indx_player):]\n"
   ]
  },
  {
   "cell_type": "code",
   "execution_count": 4,
   "metadata": {},
   "outputs": [],
   "source": [
    "data2 = np.array(data)\n",
    "players = [items for item in data2 for items in item.split(',')]\n",
    "del players[1::2]"
   ]
  },
  {
   "cell_type": "code",
   "execution_count": 5,
   "metadata": {},
   "outputs": [],
   "source": [
    "## Mirar bien como funciona esto\n",
    "\n",
    "players2=[]\n",
    "for player in players:\n",
    "    p_low = player.lower()\n",
    "    players2.append(p_low.capitalize())"
   ]
  },
  {
   "cell_type": "markdown",
   "metadata": {},
   "source": [
    "### Obtención de las estadisticas de los jugadores seleccionables"
   ]
  },
  {
   "cell_type": "code",
   "execution_count": 6,
   "metadata": {},
   "outputs": [],
   "source": [
    "# La web de sports-reference tiene una pagina propia de cada jugador, esta tiene que llevar el nombre seguido de un \"-1\" o \"-2\" si hay otro con el mismo nombre. Convertimos los nombres a minuscula, quitamos caracteres especiales y cambiamos el espacio por una \"-\" para conseguir entrar en la página de cada jugador de la lista previa\n",
    "# Con beautiful soup extraemo la información de la tabla y la guardamos en una variable\n",
    "\n",
    "maindata = []\n",
    "for name in players:\n",
    "    realname = name\n",
    "    name = name.replace(\"IGGY BRAZDEIKIS\", \"IGNAS-BRAZDEIKIS\")\n",
    "    name = name.replace(\"DEWAN HERNANDEZ\", \"DEWAN HUELL\")\n",
    "    name = name.replace(\"NIC CLAXTON\", \"NICOLAS-CLAXTON\")\n",
    "    name = name.replace(\"JA MORANT\", \"TEMETRIUS-MORANT\")\n",
    "    name = name.replace(\"KZ OKPALA\", \"KEZIE-OKPALA\")\n",
    "    name = name.replace(\"SIMI SHITTU\", \"SIMISOLA-SHITTU\")\n",
    "    name = name.replace(\"JA MORANT\", \"TEMETRIUSMORANT\")\n",
    "    name = name.lower()\n",
    "    name = name.replace(\" \", \"-\")\n",
    "    name = name.replace(\".\", \"\")\n",
    "    name = name.replace(\"\\'\", \"\")\n",
    "    name = name.replace(\"’\", \"\")\n",
    "    name = name.replace(\"JR\", \"\")\n",
    "    website_url = requests.get('https://www.sports-reference.com/cbb/players/'+ name +'-1.html')\n",
    "    soup = BeautifulSoup(website_url.content,'lxml')\n",
    "    soup.prettify()\n",
    "    My_table = soup.find('table',{'id':'players_per_game'})\n",
    "    if My_table is not None:\n",
    "        maindata = maindata + [realname]\n",
    "        tabledata = My_table.findAll('td')\n",
    "        data = []\n",
    "        for cell in tabledata:\n",
    "            data.append(cell.get_text())\n",
    "        maindata = maindata +data[-28:]"
   ]
  },
  {
   "cell_type": "code",
   "execution_count": 7,
   "metadata": {},
   "outputs": [],
   "source": [
    "import numpy as np\n",
    "maindata2 = np.array(maindata)\n",
    "refined2 = np.reshape(maindata2, (-1, 29))\n"
   ]
  },
  {
   "cell_type": "code",
   "execution_count": 8,
   "metadata": {},
   "outputs": [
    {
     "name": "stdout",
     "output_type": "stream",
     "text": [
      "['Name', 'School', 'Conf', 'G', 'GS', 'MP', 'FG', 'FGA', 'FG%', '2P', '2PA', '2P%', '3P', '3PA', '3P%', 'FT', 'FTA', 'FT%', 'ORB', 'DRB', 'TRB', 'AST', 'STL', 'BLK', 'TOV', 'PF', 'PTS', '\\xa0', 'SOS']\n"
     ]
    }
   ],
   "source": [
    "# Extraemos los nombres de columna de la tabla\n",
    "\n",
    "tableheader = My_table.findAll('th')\n",
    "colheaders = []\n",
    "count = 0\n",
    "for item in tableheader:\n",
    "    if (count < 29):\n",
    "        colheaders.append(item.get_text())\n",
    "        count=count+1\n",
    "colheaders.remove('Season')\n",
    "colheaders = ['Name'] + colheaders\n",
    "print(colheaders)"
   ]
  },
  {
   "cell_type": "code",
   "execution_count": 9,
   "metadata": {},
   "outputs": [
    {
     "data": {
      "text/html": [
       "<div>\n",
       "<style scoped>\n",
       "    .dataframe tbody tr th:only-of-type {\n",
       "        vertical-align: middle;\n",
       "    }\n",
       "\n",
       "    .dataframe tbody tr th {\n",
       "        vertical-align: top;\n",
       "    }\n",
       "\n",
       "    .dataframe thead th {\n",
       "        text-align: right;\n",
       "    }\n",
       "</style>\n",
       "<table border=\"1\" class=\"dataframe\">\n",
       "  <thead>\n",
       "    <tr style=\"text-align: right;\">\n",
       "      <th></th>\n",
       "      <th>Name</th>\n",
       "      <th>School</th>\n",
       "      <th>Conf</th>\n",
       "      <th>G</th>\n",
       "      <th>GS</th>\n",
       "      <th>MP</th>\n",
       "      <th>FG</th>\n",
       "      <th>FGA</th>\n",
       "      <th>FG%</th>\n",
       "      <th>2P</th>\n",
       "      <th>...</th>\n",
       "      <th>DRB</th>\n",
       "      <th>TRB</th>\n",
       "      <th>AST</th>\n",
       "      <th>STL</th>\n",
       "      <th>BLK</th>\n",
       "      <th>TOV</th>\n",
       "      <th>PF</th>\n",
       "      <th>PTS</th>\n",
       "      <th></th>\n",
       "      <th>SOS</th>\n",
       "    </tr>\n",
       "  </thead>\n",
       "  <tbody>\n",
       "    <tr>\n",
       "      <th>0</th>\n",
       "      <td>NICKEIL ALEXANDER-WALKER</td>\n",
       "      <td>Virginia Tech</td>\n",
       "      <td></td>\n",
       "      <td>67</td>\n",
       "      <td>67</td>\n",
       "      <td>29.9</td>\n",
       "      <td>4.7</td>\n",
       "      <td>10.1</td>\n",
       "      <td>.464</td>\n",
       "      <td>3.0</td>\n",
       "      <td>...</td>\n",
       "      <td>3.4</td>\n",
       "      <td>4.0</td>\n",
       "      <td>2.7</td>\n",
       "      <td>1.4</td>\n",
       "      <td>0.5</td>\n",
       "      <td>2.2</td>\n",
       "      <td>1.9</td>\n",
       "      <td>13.5</td>\n",
       "      <td></td>\n",
       "      <td>7.25</td>\n",
       "    </tr>\n",
       "    <tr>\n",
       "      <th>1</th>\n",
       "      <td>R.J. BARRETT</td>\n",
       "      <td>Duke</td>\n",
       "      <td></td>\n",
       "      <td>38</td>\n",
       "      <td>38</td>\n",
       "      <td>35.3</td>\n",
       "      <td>8.4</td>\n",
       "      <td>18.5</td>\n",
       "      <td>.454</td>\n",
       "      <td>6.5</td>\n",
       "      <td>...</td>\n",
       "      <td>6.0</td>\n",
       "      <td>7.6</td>\n",
       "      <td>4.3</td>\n",
       "      <td>0.9</td>\n",
       "      <td>0.4</td>\n",
       "      <td>3.2</td>\n",
       "      <td>1.8</td>\n",
       "      <td>22.6</td>\n",
       "      <td></td>\n",
       "      <td>11.97</td>\n",
       "    </tr>\n",
       "    <tr>\n",
       "      <th>2</th>\n",
       "      <td>TYUS BATTLE</td>\n",
       "      <td>Syracuse</td>\n",
       "      <td></td>\n",
       "      <td>103</td>\n",
       "      <td>94</td>\n",
       "      <td>35.4</td>\n",
       "      <td>5.3</td>\n",
       "      <td>12.8</td>\n",
       "      <td>.417</td>\n",
       "      <td>3.6</td>\n",
       "      <td>...</td>\n",
       "      <td>2.3</td>\n",
       "      <td>2.8</td>\n",
       "      <td>2.1</td>\n",
       "      <td>1.3</td>\n",
       "      <td>0.2</td>\n",
       "      <td>1.8</td>\n",
       "      <td>2.0</td>\n",
       "      <td>16.0</td>\n",
       "      <td></td>\n",
       "      <td>9.52</td>\n",
       "    </tr>\n",
       "    <tr>\n",
       "      <th>3</th>\n",
       "      <td>BOL BOL</td>\n",
       "      <td>Oregon</td>\n",
       "      <td></td>\n",
       "      <td>9</td>\n",
       "      <td>9</td>\n",
       "      <td>29.8</td>\n",
       "      <td>8.2</td>\n",
       "      <td>14.7</td>\n",
       "      <td>.561</td>\n",
       "      <td>6.8</td>\n",
       "      <td>...</td>\n",
       "      <td>7.4</td>\n",
       "      <td>9.6</td>\n",
       "      <td>1.0</td>\n",
       "      <td>0.8</td>\n",
       "      <td>2.7</td>\n",
       "      <td>2.0</td>\n",
       "      <td>1.7</td>\n",
       "      <td>21.0</td>\n",
       "      <td></td>\n",
       "      <td>6.13</td>\n",
       "    </tr>\n",
       "    <tr>\n",
       "      <th>4</th>\n",
       "      <td>MARQUES BOLDEN</td>\n",
       "      <td>Duke</td>\n",
       "      <td></td>\n",
       "      <td>88</td>\n",
       "      <td>24</td>\n",
       "      <td>13.6</td>\n",
       "      <td>1.5</td>\n",
       "      <td>2.6</td>\n",
       "      <td>.573</td>\n",
       "      <td>1.5</td>\n",
       "      <td>...</td>\n",
       "      <td>1.9</td>\n",
       "      <td>3.3</td>\n",
       "      <td>0.4</td>\n",
       "      <td>0.3</td>\n",
       "      <td>1.1</td>\n",
       "      <td>0.6</td>\n",
       "      <td>1.6</td>\n",
       "      <td>3.8</td>\n",
       "      <td></td>\n",
       "      <td>10.86</td>\n",
       "    </tr>\n",
       "  </tbody>\n",
       "</table>\n",
       "<p>5 rows × 29 columns</p>\n",
       "</div>"
      ],
      "text/plain": [
       "                       Name         School Conf    G  GS    MP   FG   FGA  \\\n",
       "0  NICKEIL ALEXANDER-WALKER  Virginia Tech        67  67  29.9  4.7  10.1   \n",
       "1              R.J. BARRETT           Duke        38  38  35.3  8.4  18.5   \n",
       "2               TYUS BATTLE       Syracuse       103  94  35.4  5.3  12.8   \n",
       "3                   BOL BOL         Oregon         9   9  29.8  8.2  14.7   \n",
       "4            MARQUES BOLDEN           Duke        88  24  13.6  1.5   2.6   \n",
       "\n",
       "    FG%   2P  ...  DRB  TRB  AST  STL  BLK  TOV   PF   PTS      SOS  \n",
       "0  .464  3.0  ...  3.4  4.0  2.7  1.4  0.5  2.2  1.9  13.5     7.25  \n",
       "1  .454  6.5  ...  6.0  7.6  4.3  0.9  0.4  3.2  1.8  22.6    11.97  \n",
       "2  .417  3.6  ...  2.3  2.8  2.1  1.3  0.2  1.8  2.0  16.0     9.52  \n",
       "3  .561  6.8  ...  7.4  9.6  1.0  0.8  2.7  2.0  1.7  21.0     6.13  \n",
       "4  .573  1.5  ...  1.9  3.3  0.4  0.3  1.1  0.6  1.6   3.8    10.86  \n",
       "\n",
       "[5 rows x 29 columns]"
      ]
     },
     "execution_count": 9,
     "metadata": {},
     "output_type": "execute_result"
    }
   ],
   "source": [
    "# Convertimos la información a un DF con los nombres de las columnas establecidos\n",
    "\n",
    "import pandas as pd\n",
    "draft19_class = pd.DataFrame(refined2, columns=colheaders)\n",
    "draft19_class.head()"
   ]
  },
  {
   "cell_type": "code",
   "execution_count": 10,
   "metadata": {},
   "outputs": [
    {
     "data": {
      "text/plain": [
       "(84, 29)"
      ]
     },
     "execution_count": 10,
     "metadata": {},
     "output_type": "execute_result"
    }
   ],
   "source": [
    "# Miramos la forma del DF\n",
    "\n",
    "draft19_class.shape"
   ]
  },
  {
   "cell_type": "code",
   "execution_count": 11,
   "metadata": {},
   "outputs": [
    {
     "data": {
      "text/plain": [
       "94"
      ]
     },
     "execution_count": 11,
     "metadata": {},
     "output_type": "execute_result"
    }
   ],
   "source": [
    "len(players)"
   ]
  },
  {
   "cell_type": "code",
   "execution_count": 12,
   "metadata": {
    "scrolled": true
   },
   "outputs": [
    {
     "data": {
      "text/plain": [
       "['TROY BAXTER JR.',\n",
       " 'DARIUS BAZLEY',\n",
       " 'CHARLIE BROWN JR.',\n",
       " 'AMIR HINTON',\n",
       " 'DAULTON HOMMES',\n",
       " 'JALEN LECQUE',\n",
       " 'ZACH NORVELL JR.',\n",
       " 'KEVIN PORTER JR.',\n",
       " 'AUSTIN ROBINSON',\n",
       " 'JALEN SYKES']"
      ]
     },
     "metadata": {},
     "output_type": "display_data"
    }
   ],
   "source": [
    "# Vemos que jugadores de la lista no se ha podido conseguir la información por problemas con la URL\n",
    "\n",
    "a = list(draft19_class['Name'])\n",
    "b = list(players)\n",
    "\n",
    "faltan=[]\n",
    "\n",
    "for player in b:\n",
    "    if player not in a:\n",
    "        faltan.append(player)\n",
    "        \n",
    "display(faltan)"
   ]
  },
  {
   "cell_type": "markdown",
   "metadata": {},
   "source": [
    "### Obtención de la posición en el campo de los jugadores"
   ]
  },
  {
   "cell_type": "code",
   "execution_count": 13,
   "metadata": {},
   "outputs": [],
   "source": [
    "# Por cada nombre de la tabla anterior extraemos la posición en la que juega el jugador\n",
    "\n",
    "players = list(draft19_class['Name'])\n",
    "\n",
    "pos = []\n",
    "for name in players:\n",
    "    realname = name\n",
    "    name = name.replace(\"IGGY BRAZDEIKIS\", \"IGNAS-BRAZDEIKIS\")\n",
    "    name = name.replace(\"DEWAN HERNANDEZ\", \"DEWAN HUELL\")\n",
    "    name = name.replace(\"NIC CLAXTON\", \"NICOLAS-CLAXTON\")\n",
    "    name = name.replace(\"JA MORANT\", \"TEMETRIUS-MORANT\")\n",
    "    name = name.replace(\"KZ OKPALA\", \"KEZIE-OKPALA\")\n",
    "    name = name.replace(\"SIMI SHITTU\", \"SIMISOLA-SHITTU\")\n",
    "    name = name.replace(\"JA MORANT\", \"TEMETRIUSMORANT\")\n",
    "    name = name.lower()\n",
    "    name = name.replace(\" \", \"-\")\n",
    "    name = name.replace(\".\", \"\")\n",
    "    name = name.replace(\"\\'\", \"\")\n",
    "    name = name.replace(\"’\", \"\")\n",
    "    name = name.replace(\"JR\", \"\")\n",
    "    website_url = requests.get('https://www.sports-reference.com/cbb/players/'+ name +'-1.html')\n",
    "#    print('https://www.sports-reference.com/cbb/players/'+ name +'-1.html')\n",
    "    soup = BeautifulSoup(website_url.content,'lxml')\n",
    "    soup.prettify()\n",
    "    position = soup.find_all('p')\n",
    "    if position is not None:\n",
    "        pos.append(list(position[0])[2].replace(\" \", \"\").replace(\"\\n\", \"\"))"
   ]
  },
  {
   "cell_type": "code",
   "execution_count": 14,
   "metadata": {},
   "outputs": [],
   "source": [
    "# Creamos solo posiciones de Guard, Forward y Center\n",
    "\n",
    "position=[]\n",
    "for e in pos:\n",
    "    POS = e.split('-')\n",
    "    position.append(POS[0])\n",
    "    \n",
    "draft19_class['POS'] = position"
   ]
  },
  {
   "cell_type": "code",
   "execution_count": 15,
   "metadata": {},
   "outputs": [
    {
     "data": {
      "text/html": [
       "<div>\n",
       "<style scoped>\n",
       "    .dataframe tbody tr th:only-of-type {\n",
       "        vertical-align: middle;\n",
       "    }\n",
       "\n",
       "    .dataframe tbody tr th {\n",
       "        vertical-align: top;\n",
       "    }\n",
       "\n",
       "    .dataframe thead th {\n",
       "        text-align: right;\n",
       "    }\n",
       "</style>\n",
       "<table border=\"1\" class=\"dataframe\">\n",
       "  <thead>\n",
       "    <tr style=\"text-align: right;\">\n",
       "      <th></th>\n",
       "      <th>Name</th>\n",
       "      <th>School</th>\n",
       "      <th>Conf</th>\n",
       "      <th>G</th>\n",
       "      <th>GS</th>\n",
       "      <th>MP</th>\n",
       "      <th>FG</th>\n",
       "      <th>FGA</th>\n",
       "      <th>FG%</th>\n",
       "      <th>2P</th>\n",
       "      <th>...</th>\n",
       "      <th>TRB</th>\n",
       "      <th>AST</th>\n",
       "      <th>STL</th>\n",
       "      <th>BLK</th>\n",
       "      <th>TOV</th>\n",
       "      <th>PF</th>\n",
       "      <th>PTS</th>\n",
       "      <th></th>\n",
       "      <th>SOS</th>\n",
       "      <th>POS</th>\n",
       "    </tr>\n",
       "  </thead>\n",
       "  <tbody>\n",
       "    <tr>\n",
       "      <th>0</th>\n",
       "      <td>NICKEIL ALEXANDER-WALKER</td>\n",
       "      <td>Virginia Tech</td>\n",
       "      <td></td>\n",
       "      <td>67</td>\n",
       "      <td>67</td>\n",
       "      <td>29.9</td>\n",
       "      <td>4.7</td>\n",
       "      <td>10.1</td>\n",
       "      <td>.464</td>\n",
       "      <td>3.0</td>\n",
       "      <td>...</td>\n",
       "      <td>4.0</td>\n",
       "      <td>2.7</td>\n",
       "      <td>1.4</td>\n",
       "      <td>0.5</td>\n",
       "      <td>2.2</td>\n",
       "      <td>1.9</td>\n",
       "      <td>13.5</td>\n",
       "      <td></td>\n",
       "      <td>7.25</td>\n",
       "      <td>Guard</td>\n",
       "    </tr>\n",
       "    <tr>\n",
       "      <th>1</th>\n",
       "      <td>R.J. BARRETT</td>\n",
       "      <td>Duke</td>\n",
       "      <td></td>\n",
       "      <td>38</td>\n",
       "      <td>38</td>\n",
       "      <td>35.3</td>\n",
       "      <td>8.4</td>\n",
       "      <td>18.5</td>\n",
       "      <td>.454</td>\n",
       "      <td>6.5</td>\n",
       "      <td>...</td>\n",
       "      <td>7.6</td>\n",
       "      <td>4.3</td>\n",
       "      <td>0.9</td>\n",
       "      <td>0.4</td>\n",
       "      <td>3.2</td>\n",
       "      <td>1.8</td>\n",
       "      <td>22.6</td>\n",
       "      <td></td>\n",
       "      <td>11.97</td>\n",
       "      <td>Forward</td>\n",
       "    </tr>\n",
       "    <tr>\n",
       "      <th>2</th>\n",
       "      <td>TYUS BATTLE</td>\n",
       "      <td>Syracuse</td>\n",
       "      <td></td>\n",
       "      <td>103</td>\n",
       "      <td>94</td>\n",
       "      <td>35.4</td>\n",
       "      <td>5.3</td>\n",
       "      <td>12.8</td>\n",
       "      <td>.417</td>\n",
       "      <td>3.6</td>\n",
       "      <td>...</td>\n",
       "      <td>2.8</td>\n",
       "      <td>2.1</td>\n",
       "      <td>1.3</td>\n",
       "      <td>0.2</td>\n",
       "      <td>1.8</td>\n",
       "      <td>2.0</td>\n",
       "      <td>16.0</td>\n",
       "      <td></td>\n",
       "      <td>9.52</td>\n",
       "      <td>Guard</td>\n",
       "    </tr>\n",
       "    <tr>\n",
       "      <th>3</th>\n",
       "      <td>BOL BOL</td>\n",
       "      <td>Oregon</td>\n",
       "      <td></td>\n",
       "      <td>9</td>\n",
       "      <td>9</td>\n",
       "      <td>29.8</td>\n",
       "      <td>8.2</td>\n",
       "      <td>14.7</td>\n",
       "      <td>.561</td>\n",
       "      <td>6.8</td>\n",
       "      <td>...</td>\n",
       "      <td>9.6</td>\n",
       "      <td>1.0</td>\n",
       "      <td>0.8</td>\n",
       "      <td>2.7</td>\n",
       "      <td>2.0</td>\n",
       "      <td>1.7</td>\n",
       "      <td>21.0</td>\n",
       "      <td></td>\n",
       "      <td>6.13</td>\n",
       "      <td>Center</td>\n",
       "    </tr>\n",
       "    <tr>\n",
       "      <th>4</th>\n",
       "      <td>MARQUES BOLDEN</td>\n",
       "      <td>Duke</td>\n",
       "      <td></td>\n",
       "      <td>88</td>\n",
       "      <td>24</td>\n",
       "      <td>13.6</td>\n",
       "      <td>1.5</td>\n",
       "      <td>2.6</td>\n",
       "      <td>.573</td>\n",
       "      <td>1.5</td>\n",
       "      <td>...</td>\n",
       "      <td>3.3</td>\n",
       "      <td>0.4</td>\n",
       "      <td>0.3</td>\n",
       "      <td>1.1</td>\n",
       "      <td>0.6</td>\n",
       "      <td>1.6</td>\n",
       "      <td>3.8</td>\n",
       "      <td></td>\n",
       "      <td>10.86</td>\n",
       "      <td>Center</td>\n",
       "    </tr>\n",
       "  </tbody>\n",
       "</table>\n",
       "<p>5 rows × 30 columns</p>\n",
       "</div>"
      ],
      "text/plain": [
       "                       Name         School Conf    G  GS    MP   FG   FGA  \\\n",
       "0  NICKEIL ALEXANDER-WALKER  Virginia Tech        67  67  29.9  4.7  10.1   \n",
       "1              R.J. BARRETT           Duke        38  38  35.3  8.4  18.5   \n",
       "2               TYUS BATTLE       Syracuse       103  94  35.4  5.3  12.8   \n",
       "3                   BOL BOL         Oregon         9   9  29.8  8.2  14.7   \n",
       "4            MARQUES BOLDEN           Duke        88  24  13.6  1.5   2.6   \n",
       "\n",
       "    FG%   2P  ...  TRB  AST  STL  BLK  TOV   PF   PTS      SOS      POS  \n",
       "0  .464  3.0  ...  4.0  2.7  1.4  0.5  2.2  1.9  13.5     7.25    Guard  \n",
       "1  .454  6.5  ...  7.6  4.3  0.9  0.4  3.2  1.8  22.6    11.97  Forward  \n",
       "2  .417  3.6  ...  2.8  2.1  1.3  0.2  1.8  2.0  16.0     9.52    Guard  \n",
       "3  .561  6.8  ...  9.6  1.0  0.8  2.7  2.0  1.7  21.0     6.13   Center  \n",
       "4  .573  1.5  ...  3.3  0.4  0.3  1.1  0.6  1.6   3.8    10.86   Center  \n",
       "\n",
       "[5 rows x 30 columns]"
      ]
     },
     "execution_count": 15,
     "metadata": {},
     "output_type": "execute_result"
    }
   ],
   "source": [
    "draft19_class.head()"
   ]
  },
  {
   "cell_type": "markdown",
   "metadata": {},
   "source": [
    "### Limpieza de columnas no usables en el modelo"
   ]
  },
  {
   "cell_type": "code",
   "execution_count": 16,
   "metadata": {},
   "outputs": [
    {
     "data": {
      "text/plain": [
       "Index(['Name', 'School', 'Conf', 'G', 'GS', 'MP', 'FG', 'FGA', 'FG%', '2P',\n",
       "       '2PA', '2P%', '3P', '3PA', '3P%', 'FT', 'FTA', 'FT%', 'ORB', 'DRB',\n",
       "       'TRB', 'AST', 'STL', 'BLK', 'TOV', 'PF', 'PTS', ' ', 'SOS', 'POS'],\n",
       "      dtype='object')"
      ]
     },
     "execution_count": 16,
     "metadata": {},
     "output_type": "execute_result"
    }
   ],
   "source": [
    "draft19_class.columns"
   ]
  },
  {
   "cell_type": "code",
   "execution_count": 17,
   "metadata": {},
   "outputs": [],
   "source": [
    "remove_columns = ['School', 'Conf']\n",
    "\n",
    "for i in remove_columns:\n",
    "    draft19_class.drop([i], axis=1, inplace=True)"
   ]
  },
  {
   "cell_type": "code",
   "execution_count": 18,
   "metadata": {},
   "outputs": [],
   "source": [
    "columns = ['Name', 'G', 'GS', 'MP', 'FG', 'FGA', 'FG%', '2P', '2PA', '2P%', '3P',\n",
    "       '3PA', '3P%', 'FT', 'FTA', 'FT%', 'ORB', 'DRB', 'TRB', 'AST', 'STL',\n",
    "       'BLK', 'TOV', 'PF', 'PTS', 'x', 'SOS', 'POS']\n",
    "\n",
    "draft19_class.columns = columns\n"
   ]
  },
  {
   "cell_type": "code",
   "execution_count": 19,
   "metadata": {},
   "outputs": [],
   "source": [
    "draft19_class.drop(['x'], axis=1, inplace=True)"
   ]
  },
  {
   "cell_type": "markdown",
   "metadata": {},
   "source": [
    "### Exportación de la tabla como .csv"
   ]
  },
  {
   "cell_type": "code",
   "execution_count": 20,
   "metadata": {},
   "outputs": [],
   "source": [
    "# Salvamos el archivo\n",
    "\n",
    "draft19_class.to_csv('./input/draft19_class.csv', index=False)"
   ]
  },
  {
   "cell_type": "code",
   "execution_count": null,
   "metadata": {},
   "outputs": [],
   "source": []
  }
 ],
 "metadata": {
  "kernelspec": {
   "display_name": "Python 3",
   "language": "python",
   "name": "python3"
  },
  "language_info": {
   "codemirror_mode": {
    "name": "ipython",
    "version": 3
   },
   "file_extension": ".py",
   "mimetype": "text/x-python",
   "name": "python",
   "nbconvert_exporter": "python",
   "pygments_lexer": "ipython3",
   "version": "3.7.3"
  }
 },
 "nbformat": 4,
 "nbformat_minor": 2
}
